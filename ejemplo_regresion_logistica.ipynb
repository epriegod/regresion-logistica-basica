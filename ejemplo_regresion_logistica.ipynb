{
 "cells": [
  {
   "cell_type": "markdown",
   "metadata": {},
   "source": [
    "# Ejemplo de Regresión Logística\n",
    "Este cuaderno muestra un ejemplo paso a paso de cómo aplicar regresión logística utilizando Python con `scikit-learn`."
   ]
  },
  {
   "cell_type": "code",
   "execution_count": null,
   "metadata": {},
   "outputs": [],
   "source": [
    "import pandas as pd\n",
    "import numpy as np\n",
    "import matplotlib.pyplot as plt\n",
    "from sklearn.linear_model import LogisticRegression\n",
    "from sklearn.model_selection import train_test_split\n",
    "from sklearn.metrics import classification_report, confusion_matrix\n",
    "\n",
    "# Crear un conjunto de datos simple\n",
    "data = {\n",
    "    'Puntaje': [45, 50, 55, 60, 65, 70, 75, 80, 85, 90],\n",
    "    'Admitido': [0, 0, 0, 0, 1, 0, 1, 1, 1, 1]\n",
    "}\n",
    "df = pd.DataFrame(data)\n",
    "\n",
    "# Visualización inicial\n",
    "plt.scatter(df['Puntaje'], df['Admitido'], color='blue')\n",
    "plt.xlabel('Puntaje')\n",
    "plt.ylabel('Admitido')\n",
    "plt.title('Dispersión de Puntaje vs. Admisión')\n",
    "plt.grid(True)\n",
    "plt.show()"
   ]
  },
  {
   "cell_type": "code",
   "execution_count": null,
   "metadata": {},
   "outputs": [],
   "source": [
    "# Separar variables predictoras y respuesta\n",
    "X = df[['Puntaje']]\n",
    "y = df['Admitido']\n",
    "\n",
    "# Dividir en entrenamiento y prueba\n",
    "X_train, X_test, y_train, y_test = train_test_split(X, y, test_size=0.3, random_state=42)\n",
    "\n",
    "# Crear y entrenar modelo\n",
    "model = LogisticRegression()\n",
    "model.fit(X_train, y_train)\n",
    "\n",
    "# Predicciones\n",
    "y_pred = model.predict(X_test)\n",
    "y_prob = model.predict_proba(X_test)[:, 1]\n",
    "\n",
    "# Evaluación\n",
    "print(\"Matriz de Confusión:\")\n",
    "print(confusion_matrix(y_test, y_pred))\n",
    "\n",
    "print(\"\\nReporte de Clasificación:\")\n",
    "print(classification_report(y_test, y_pred))"
   ]
  },
  {
   "cell_type": "code",
   "execution_count": null,
   "metadata": {},
   "outputs": [],
   "source": [
    "# Visualización de la curva logística\n",
    "x_vals = np.linspace(40, 95, 200).reshape(-1, 1)\n",
    "y_vals = model.predict_proba(x_vals)[:, 1]\n",
    "\n",
    "plt.scatter(df['Puntaje'], df['Admitido'], color='blue', label='Datos Reales')\n",
    "plt.plot(x_vals, y_vals, color='red', label='Curva logística')\n",
    "plt.xlabel('Puntaje')\n",
    "plt.ylabel('Probabilidad de Admisión')\n",
    "plt.title('Regresión Logística')\n",
    "plt.legend()\n",
    "plt.grid(True)\n",
    "plt.show()"
   ]
  }
 ],
 "metadata": {
  "kernelspec": {
   "display_name": "Python 3",
   "language": "python",
   "name": "python3"
  },
  "language_info": {
   "name": "python",
   "version": "3.x"
  }
 },
 "nbformat": 4,
 "nbformat_minor": 5
}
